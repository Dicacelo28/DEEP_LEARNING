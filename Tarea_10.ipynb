{
  "nbformat": 4,
  "nbformat_minor": 0,
  "metadata": {
    "colab": {
      "name": "Tarea_10.ipynb",
      "provenance": [],
      "collapsed_sections": []
    },
    "kernelspec": {
      "name": "python3",
      "display_name": "Python 3"
    },
    "language_info": {
      "name": "python"
    },
    "accelerator": "GPU"
  },
  "cells": [
    {
      "cell_type": "markdown",
      "metadata": {
        "id": "mq_eyEwAsyTt"
      },
      "source": [
        "# DEEP LEARNING\n",
        "## TAREA 10\n",
        "## Diego Camilo Celada Lozada\n"
      ]
    },
    {
      "cell_type": "markdown",
      "metadata": {
        "id": "zGbGA3KAtCkK"
      },
      "source": [
        "### Primer punto\n",
        "\n",
        "Encuentre el tamaño del campo receptivo (cuadrado) para una neurona que resultó en la cascada de n capas de agrupación convolucional con un tamaño de kernel convolucional de k, tamaño de kernel de agrupación de p. "
      ]
    },
    {
      "cell_type": "markdown",
      "metadata": {
        "id": "BMLuAlKjtZiV"
      },
      "source": [
        "## Desarrollo\n",
        "\\begin{eqnarray}\n",
        "  \\text{input} && x\\\\ \n",
        "  \\text{layer 1:} && x-k+1=&&x-k+1\\\\\n",
        "  \\text{layer 2:} && x-k+1-p+1= && x-(k+p)+2\\\\\n",
        "  \\text{layer 3:} && x-(k-p)+2-k+1-p+1= && x-2(k+p)+4\\\\\n",
        "  &\\vdots & \\\\ \n",
        "  \\text{layer n:} && x-n(k+p)+2 n\n",
        "\\end{eqnarray}\n",
        "\n",
        "Ya que el patrón de apertura se reduce a un punto:\n",
        "$$x-n(k+p)+2 n=1$$\n",
        "Tenemos:\n",
        "$$x=n(k+p)-2n+1$$\n",
        "\n",
        "### Ejemplo\n",
        "\n",
        "Para una kernel size=3 y pooling size=2 y n=1\n",
        "\n",
        "x=1(3+2)-2(1)+1=2"
      ]
    },
    {
      "cell_type": "markdown",
      "metadata": {
        "id": "vtJHK_CXHU2Y"
      },
      "source": [
        "## Segundo punto\n",
        "\n",
        "Reproducir la practica de laboratorio"
      ]
    },
    {
      "cell_type": "markdown",
      "metadata": {
        "id": "E4j1J6JCLPBz"
      },
      "source": [
        "### Parte practica: Laboratorio"
      ]
    },
    {
      "cell_type": "markdown",
      "metadata": {
        "id": "Km9l0m5kL6zY"
      },
      "source": [
        "### Importar librerias"
      ]
    },
    {
      "cell_type": "code",
      "metadata": {
        "id": "dj606YYoL-49"
      },
      "source": [
        "import keras\n",
        "from keras.datasets import mnist\n",
        "from keras.models import Sequential\n",
        "from keras.layers import Conv2D, AvgPool2D, Flatten, Dense\n",
        "from tensorflow.keras.optimizers import Adam\n",
        "from tensorflow.keras.utils import to_categorical\n",
        "from keras.utils.vis_utils import plot_model\n"
      ],
      "execution_count": 3,
      "outputs": []
    },
    {
      "cell_type": "markdown",
      "metadata": {
        "id": "3FUwItw2NVA2"
      },
      "source": [
        "### Cargar datos y repartirlos"
      ]
    },
    {
      "cell_type": "code",
      "metadata": {
        "id": "kBcMuUcmOMQT",
        "colab": {
          "base_uri": "https://localhost:8080/"
        },
        "outputId": "4aaca575-adfd-4d56-da22-b6fb184834c3"
      },
      "source": [
        "(train_x, train_y), (test_x, test_y) = mnist.load_data()\n"
      ],
      "execution_count": 4,
      "outputs": [
        {
          "output_type": "stream",
          "name": "stdout",
          "text": [
            "Downloading data from https://storage.googleapis.com/tensorflow/tf-keras-datasets/mnist.npz\n",
            "11493376/11490434 [==============================] - 0s 0us/step\n",
            "11501568/11490434 [==============================] - 0s 0us/step\n"
          ]
        }
      ]
    },
    {
      "cell_type": "markdown",
      "metadata": {
        "id": "4GWV5LyMOQ5s"
      },
      "source": [
        "### Verificar los datos\n",
        "\n"
      ]
    },
    {
      "cell_type": "code",
      "metadata": {
        "colab": {
          "base_uri": "https://localhost:8080/"
        },
        "id": "x5n_0ggdOfsz",
        "outputId": "7aeda5fa-43e5-4335-f555-7e2140067cf0"
      },
      "source": [
        "print(\"The size of train_x is {}\".format(train_x. shape))\n",
        "print(\"The size of train_y is {}\".format(train_y. shape))\n",
        "print(\"The size of test_x is {}\".format(test_x. shape))\n",
        "print(\"The size of test_y is {}\".format(test_y. shape))"
      ],
      "execution_count": 5,
      "outputs": [
        {
          "output_type": "stream",
          "name": "stdout",
          "text": [
            "The size of train_x is (60000, 28, 28)\n",
            "The size of train_y is (60000,)\n",
            "The size of test_x is (10000, 28, 28)\n",
            "The size of test_y is (10000,)\n"
          ]
        }
      ]
    },
    {
      "cell_type": "markdown",
      "metadata": {
        "id": "whr346qNOmNb"
      },
      "source": [
        "### Reshaping to 4 order tensors"
      ]
    },
    {
      "cell_type": "code",
      "metadata": {
        "id": "WflN53VIPSVo"
      },
      "source": [
        "train_x = train_x.reshape(train_x.shape[0], 28, 28, 1)\n",
        "test_x = test_x.reshape(test_x.shape[0], 28, 28, 1)"
      ],
      "execution_count": 6,
      "outputs": []
    },
    {
      "cell_type": "markdown",
      "metadata": {
        "id": "Mf7tEMzHP9DH"
      },
      "source": [
        "### Normalizacion"
      ]
    },
    {
      "cell_type": "code",
      "metadata": {
        "id": "_zUx5zCIQI60"
      },
      "source": [
        "train_x = train_x/255.0\n",
        "test_x = test_x/255.0"
      ],
      "execution_count": 7,
      "outputs": []
    },
    {
      "cell_type": "markdown",
      "metadata": {
        "id": "HBe9qhq2QfhI"
      },
      "source": [
        "### One-hot-coding the labels"
      ]
    },
    {
      "cell_type": "code",
      "metadata": {
        "id": "RjesVk45QiXY"
      },
      "source": [
        "train_y = to_categorical(train_y, num_classes=10)\n",
        "test_y = to_categorical(test_y, num_classes=10)"
      ],
      "execution_count": 8,
      "outputs": []
    },
    {
      "cell_type": "markdown",
      "metadata": {
        "id": "EAfY-ozORVxw"
      },
      "source": [
        "### Construccion del modelo"
      ]
    },
    {
      "cell_type": "code",
      "metadata": {
        "colab": {
          "base_uri": "https://localhost:8080/"
        },
        "id": "zGRvrrCERa9k",
        "outputId": "045561fd-147e-417d-8b0a-813f3fe12452"
      },
      "source": [
        "# definir, instanciar\n",
        "model = Sequential()\n",
        "\n",
        "# adicionar la capa convolucional\n",
        "# Input (28 x 28) , originalmente es 32 x 32\n",
        "# numero de filtros 6\n",
        "# el tamano del kernel es (5 x 5 )\n",
        "# padding p=0\n",
        "# strides s=1\n",
        "# size of feature map (28-5+ 2*0)/1 + 1 = 24 x 24\n",
        "# numero de parametros (5 x 5 x 1 + 1)x6 = 156\n",
        "# la funcion de activacion ReLU (original es tanh)\n",
        "\n",
        "model.add(Conv2D(filters=6,\n",
        "                 kernel_size=5,\n",
        "                 strides=1,\n",
        "                 activation='relu',\n",
        "                 input_shape=(28,28,1)))\n",
        "\n",
        "# pooling layer S2\n",
        "# input shape (24 x 24)\n",
        "# filter size (2 x 2)\n",
        "# padding p=0\n",
        "# strides s=2\n",
        "# output size (24-2)/2+1 = 12, (12 x 12)\n",
        "\n",
        "model.add( AvgPool2D(pool_size=(2,2)))\n",
        "\n",
        "\n",
        "# Add capa convolucional C3\n",
        "# input shape (12 x 12 )\n",
        "# numero de filtros = 16\n",
        "# tamano del kernel (5 x 5 )\n",
        "# strides s=1\n",
        "# padding p=0\n",
        "# output size (12-5+1=8), (8 x 8)\n",
        "# numero de parametros (5 x 5 x 6 + 1)x16 = 2416\n",
        "model.add(Conv2D(filters=16, \n",
        "                 kernel_size=(5,5),\n",
        "                 activation='relu'))\n",
        "\n",
        "# average pooling layer\n",
        "# input (8 x 8)\n",
        "# numero de filtros 16\n",
        "# tamano del kernel (2 x 2 )\n",
        "# padding p=0\n",
        "# strides s =2\n",
        "# tamano de salida (8-2)/2 + 1 =4,  4 x 4\n",
        "model.add(AvgPool2D(pool_size=(2,2)))\n",
        "\n",
        "# en el modelo original hay una conovolucion de mas, por que era 32x32 datos, aca son 28x28\n",
        "# no alcanza. \n",
        "# vamos a \"flatten\" la capa, queda una capa densa con 256 nodos.\n",
        "model.add(Flatten())\n",
        "\n",
        "\n",
        "\n",
        "# agregar capa densa de 120 nodos\n",
        "# numero de entrada 256\n",
        "# parametros (120+1)*256 = 30840\n",
        "model.add( Dense(120, activation='relu'))\n",
        "\n",
        "# agregar capa densa de 84 nodos\n",
        "# numero de entrada 120\n",
        "# numero de salida 84\n",
        "# parametros (120+1)x84 = 10164 \n",
        "model.add(Dense(84, activation='relu'))\n",
        "\n",
        "# capa de clasificacion\n",
        "# softmax \n",
        "# numero de entrada 84\n",
        "# numero de salida 10\n",
        "# parametros (84+1)x10 = 850\n",
        "model.add(Dense(10, activation='softmax'))\n",
        "\n",
        "\n",
        "# muestre el sumario del modelo\n",
        "model.summary()\n",
        "\n",
        "\n",
        "\n",
        "\n"
      ],
      "execution_count": 9,
      "outputs": [
        {
          "output_type": "stream",
          "name": "stdout",
          "text": [
            "Model: \"sequential\"\n",
            "_________________________________________________________________\n",
            "Layer (type)                 Output Shape              Param #   \n",
            "=================================================================\n",
            "conv2d (Conv2D)              (None, 24, 24, 6)         156       \n",
            "_________________________________________________________________\n",
            "average_pooling2d (AveragePo (None, 12, 12, 6)         0         \n",
            "_________________________________________________________________\n",
            "conv2d_1 (Conv2D)            (None, 8, 8, 16)          2416      \n",
            "_________________________________________________________________\n",
            "average_pooling2d_1 (Average (None, 4, 4, 16)          0         \n",
            "_________________________________________________________________\n",
            "flatten (Flatten)            (None, 256)               0         \n",
            "_________________________________________________________________\n",
            "dense (Dense)                (None, 120)               30840     \n",
            "_________________________________________________________________\n",
            "dense_1 (Dense)              (None, 84)                10164     \n",
            "_________________________________________________________________\n",
            "dense_2 (Dense)              (None, 10)                850       \n",
            "=================================================================\n",
            "Total params: 44,426\n",
            "Trainable params: 44,426\n",
            "Non-trainable params: 0\n",
            "_________________________________________________________________\n"
          ]
        }
      ]
    },
    {
      "cell_type": "markdown",
      "metadata": {
        "id": "y_UABmNRZ7lG"
      },
      "source": [
        "### Compliacion y corrida del modelo"
      ]
    },
    {
      "cell_type": "code",
      "metadata": {
        "colab": {
          "base_uri": "https://localhost:8080/"
        },
        "id": "HjcaDCLKgVE9",
        "outputId": "76f77048-7143-481d-e30d-d458dd5ca4f7"
      },
      "source": [
        "model.compile( loss='categorical_crossentropy', optimizer=Adam(), metrics=['accuracy'])\n",
        "model.fit (train_x, train_y, batch_size=128, epochs=20, verbose=1, validation_data=(test_x, test_y))"
      ],
      "execution_count": 10,
      "outputs": [
        {
          "output_type": "stream",
          "name": "stdout",
          "text": [
            "Epoch 1/20\n",
            "469/469 [==============================] - 34s 8ms/step - loss: 0.4073 - accuracy: 0.8812 - val_loss: 0.1352 - val_accuracy: 0.9595\n",
            "Epoch 2/20\n",
            "469/469 [==============================] - 3s 7ms/step - loss: 0.1110 - accuracy: 0.9672 - val_loss: 0.0698 - val_accuracy: 0.9776\n",
            "Epoch 3/20\n",
            "469/469 [==============================] - 3s 7ms/step - loss: 0.0803 - accuracy: 0.9762 - val_loss: 0.0606 - val_accuracy: 0.9807\n",
            "Epoch 4/20\n",
            "469/469 [==============================] - 3s 7ms/step - loss: 0.0651 - accuracy: 0.9800 - val_loss: 0.0523 - val_accuracy: 0.9843\n",
            "Epoch 5/20\n",
            "469/469 [==============================] - 3s 7ms/step - loss: 0.0542 - accuracy: 0.9832 - val_loss: 0.0580 - val_accuracy: 0.9823\n",
            "Epoch 6/20\n",
            "469/469 [==============================] - 3s 7ms/step - loss: 0.0450 - accuracy: 0.9857 - val_loss: 0.0527 - val_accuracy: 0.9816\n",
            "Epoch 7/20\n",
            "469/469 [==============================] - 3s 7ms/step - loss: 0.0410 - accuracy: 0.9868 - val_loss: 0.0375 - val_accuracy: 0.9878\n",
            "Epoch 8/20\n",
            "469/469 [==============================] - 3s 7ms/step - loss: 0.0353 - accuracy: 0.9887 - val_loss: 0.0447 - val_accuracy: 0.9854\n",
            "Epoch 9/20\n",
            "469/469 [==============================] - 3s 7ms/step - loss: 0.0325 - accuracy: 0.9894 - val_loss: 0.0391 - val_accuracy: 0.9864\n",
            "Epoch 10/20\n",
            "469/469 [==============================] - 3s 7ms/step - loss: 0.0284 - accuracy: 0.9910 - val_loss: 0.0450 - val_accuracy: 0.9858\n",
            "Epoch 11/20\n",
            "469/469 [==============================] - 3s 7ms/step - loss: 0.0259 - accuracy: 0.9916 - val_loss: 0.0361 - val_accuracy: 0.9883\n",
            "Epoch 12/20\n",
            "469/469 [==============================] - 3s 7ms/step - loss: 0.0238 - accuracy: 0.9923 - val_loss: 0.0368 - val_accuracy: 0.9889\n",
            "Epoch 13/20\n",
            "469/469 [==============================] - 3s 7ms/step - loss: 0.0193 - accuracy: 0.9939 - val_loss: 0.0402 - val_accuracy: 0.9880\n",
            "Epoch 14/20\n",
            "469/469 [==============================] - 3s 7ms/step - loss: 0.0186 - accuracy: 0.9937 - val_loss: 0.0374 - val_accuracy: 0.9886\n",
            "Epoch 15/20\n",
            "469/469 [==============================] - 3s 7ms/step - loss: 0.0191 - accuracy: 0.9935 - val_loss: 0.0353 - val_accuracy: 0.9900\n",
            "Epoch 16/20\n",
            "469/469 [==============================] - 3s 7ms/step - loss: 0.0152 - accuracy: 0.9951 - val_loss: 0.0357 - val_accuracy: 0.9901\n",
            "Epoch 17/20\n",
            "469/469 [==============================] - 3s 7ms/step - loss: 0.0148 - accuracy: 0.9952 - val_loss: 0.0389 - val_accuracy: 0.9896\n",
            "Epoch 18/20\n",
            "469/469 [==============================] - 3s 7ms/step - loss: 0.0128 - accuracy: 0.9956 - val_loss: 0.0477 - val_accuracy: 0.9877\n",
            "Epoch 19/20\n",
            "469/469 [==============================] - 3s 7ms/step - loss: 0.0138 - accuracy: 0.9954 - val_loss: 0.0343 - val_accuracy: 0.9912\n",
            "Epoch 20/20\n",
            "469/469 [==============================] - 3s 7ms/step - loss: 0.0114 - accuracy: 0.9963 - val_loss: 0.0334 - val_accuracy: 0.9905\n"
          ]
        },
        {
          "output_type": "execute_result",
          "data": {
            "text/plain": [
              "<keras.callbacks.History at 0x7f0fa034e5d0>"
            ]
          },
          "metadata": {},
          "execution_count": 10
        }
      ]
    },
    {
      "cell_type": "markdown",
      "metadata": {
        "id": "W9e8MJ2ChRoz"
      },
      "source": [
        "## Evaluacion Final"
      ]
    },
    {
      "cell_type": "code",
      "metadata": {
        "colab": {
          "base_uri": "https://localhost:8080/"
        },
        "id": "IHQ4iFfEkGqz",
        "outputId": "5970fb69-3c37-4693-a3dd-751ce892afce"
      },
      "source": [
        "score = model.evaluate(test_x, test_y)\n",
        "print(\"test loss\", score[0])\n",
        "print(\"test accuracy\", score[1])"
      ],
      "execution_count": 11,
      "outputs": [
        {
          "output_type": "stream",
          "name": "stdout",
          "text": [
            "313/313 [==============================] - 1s 4ms/step - loss: 0.0334 - accuracy: 0.9905\n",
            "test loss 0.03341621160507202\n",
            "test accuracy 0.9904999732971191\n"
          ]
        }
      ]
    },
    {
      "cell_type": "markdown",
      "metadata": {
        "id": "VJMKhS60kXqr"
      },
      "source": [
        "### Graficar los datos:\n"
      ]
    },
    {
      "cell_type": "code",
      "metadata": {
        "id": "ua4P771Lkz_6"
      },
      "source": [
        "import matplotlib.pyplot as plt\n",
        "\n",
        "\n",
        "def plot_example(X, y, y_pred=None):\n",
        "  \"\"\"\n",
        "    9 graficas\n",
        "    parametros:\n",
        "    -X : las muestras de entrenamiento\n",
        "    -y: true labels\n",
        "    -y_pred: las predicciones\n",
        "\n",
        "\"\"\"\n",
        "\n",
        "  # creamos la figura de 3x3\n",
        "  fig, axes = plt.subplots(3,3)\n",
        "  fig.subplots_adjust(hspace=0.6, wspace=0.6)\n",
        "\n",
        "  X, y = X[:9, ... , 0], y[:9]\n",
        "\n",
        "  for i, ax in enumerate(axes.flat):\n",
        "    # grafico la imagen\n",
        "      ax.imshow(X[i])\n",
        "\n",
        "    # las etiquetas\n",
        "      if y_pred is  None:\n",
        "          x_label=\"True: {0}\".format(y[i])\n",
        "      else:\n",
        "          xlabel = \"True: {0}, Pred: {1}\".format(y[i], y_pred[i])\n",
        "\n",
        "    # muestra las etiquetas\n",
        "      ax.set_xlabel(xlabel)\n",
        "\n",
        "    # removemos los tics\n",
        "  ax.set_xticks([])\n",
        "  ax.set_yticks([])\n",
        "\n",
        "    # muestre la grafica\n",
        "  plt.show()\n",
        "    "
      ],
      "execution_count": 22,
      "outputs": []
    },
    {
      "cell_type": "markdown",
      "metadata": {
        "id": "vWyyukI8masV"
      },
      "source": [
        "### Evaluacion final"
      ]
    },
    {
      "cell_type": "code",
      "metadata": {
        "id": "4gpK1VomnDvk"
      },
      "source": [
        "import tensorflow as tf\n",
        "import numpy as np\n",
        "import matplotlib.pyplot as plt\n",
        "\n",
        "\n"
      ],
      "execution_count": 13,
      "outputs": []
    },
    {
      "cell_type": "code",
      "metadata": {
        "id": "awqaEnzsnWDb"
      },
      "source": [
        "# salvemos el modelo\n",
        "model.save(\"lenet5_model.h5\")\n",
        "\n",
        "\n",
        "model = tf.keras.models.load_model('lenet5_model.h5')"
      ],
      "execution_count": 14,
      "outputs": []
    },
    {
      "cell_type": "code",
      "metadata": {
        "colab": {
          "base_uri": "https://localhost:8080/",
          "height": 282
        },
        "id": "esKY7CrunfEp",
        "outputId": "96d6b57a-154d-4f4a-bef9-f20e3b09997e"
      },
      "source": [
        "\n",
        "# hacer predicciones\n",
        "predictions = model.predict(test_x)\n",
        "\n",
        "# tomemos los uy\n",
        "pred_y = np.argmax(predictions, axis=1)\n",
        "\n",
        "# graficar\n",
        "plot_example(test_x, test_y, pred_y)"
      ],
      "execution_count": 23,
      "outputs": [
        {
          "output_type": "display_data",
          "data": {
            "image/png": "[encoded data removed]",
            "text/plain": [
              "<Figure size 432x288 with 9 Axes>"
            ]
          },
          "metadata": {
            "needs_background": "light"
          }
        }
      ]
    }
  ]
}